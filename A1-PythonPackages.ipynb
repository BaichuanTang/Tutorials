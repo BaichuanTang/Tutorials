{
 "cells": [
  {
   "cell_type": "markdown",
   "metadata": {},
   "source": [
    "# Useful Python Packages for Data Science\n",
    "\n",
    "The following is general overview of packages availabe in Python that may be useful for data science.\n",
    "\n",
    "<a href=></a>\n",
    "\n",
    "- aa\n",
    "    - bb"
   ]
  },
  {
   "cell_type": "markdown",
   "metadata": {},
   "source": [
    "# Core Data-Science Modules\n",
    "These packages are all included in the anaconda distribution.\n",
    "- <a href=>scipy</a>\n",
    "    - Stuff\n",
    "- <a href=>numpy</a>\n",
    "    - Stuff\n",
    "- <a href=>pandas</a>\n",
    "    - Stuff\n",
    "- <a href=>statsmodels</a>\n",
    "    - Stuff\n",
    "- <a href=>nltk\n",
    "    - Stuff"
   ]
  },
  {
   "cell_type": "markdown",
   "metadata": {},
   "source": [
    "# Plotting / Vizualization Libraries\n",
    "- <a href=https://matplotlib.org>matplotlib</a>\n",
    "    - Stuff\n",
    "- <a href=https://seaborn.pydata.org/>seaborn</a>\n",
    "    - Stuff\n",
    "- <a href=http://bokeh.pydata.org/en/latest/>bokeh</a>\n",
    "    - Stuff"
   ]
  },
  {
   "cell_type": "markdown",
   "metadata": {},
   "source": [
    "# Graph Theory / Networks\n",
    "- <a href=></a>networkx\n",
    "    - https://networkx.github.io/\n",
    "- <a href=></a>graph-tool\n",
    "    - https://graph-tool.skewed.de/"
   ]
  },
  {
   "cell_type": "markdown",
   "metadata": {},
   "source": [
    "# Useful parts of the standard library\n",
    "Full list in standard library (py35):\n",
    "https://docs.python.org/3.5/library/index.html\n",
    "\n",
    "\n",
    "## Basic Utilities\n",
    "- <a href=></a>os\n",
    "- <a href=></a>sys\n",
    "- <a href=></a>time\n",
    "- <a href=></a>glob: Unix Style Pathname Pattern Expansion\n",
    "    - https://docs.python.org/3.5/library/glob.html\n",
    "\n",
    "## Useful functions\n",
    "- <a href=></a>math\n",
    "- <a href=></a>random\n",
    "- <a href=></a>re\n",
    "    - regular expression operations\n",
    "    - https://docs.python.org/3.5/library/re.html\n",
    "\n",
    "## File Formats\n",
    "- <a href=></a>json\n",
    "- <a href=></a>csv\n",
    "\n",
    "## Data Objects\n",
    "- <a href=></a>collections\n",
    "- <a href=></a>pickle"
   ]
  },
  {
   "cell_type": "markdown",
   "metadata": {},
   "source": [
    "# Deep Learning\n",
    "- <a href=http://deeplearning.net/software/theano/>theano</a>\n",
    "    - Stuff\n",
    "- <a href=https://www.tensorflow.org/>tensorflow</a>\n",
    "    - Stuff\n",
    "    \n",
    "- __[theano](http://deeplearning.net/software/theano/)__\n",
    "    - Stuff\n",
    "- [theano](http://deeplearning.net/software/theano/)\n",
    "    - Stuff"
   ]
  },
  {
   "cell_type": "code",
   "execution_count": null,
   "metadata": {
    "collapsed": true
   },
   "outputs": [],
   "source": []
  }
 ],
 "metadata": {
  "anaconda-cloud": {},
  "kernelspec": {
   "display_name": "Python 3",
   "language": "python",
   "name": "python3"
  },
  "language_info": {
   "codemirror_mode": {
    "name": "ipython",
    "version": 3
   },
   "file_extension": ".py",
   "mimetype": "text/x-python",
   "name": "python",
   "nbconvert_exporter": "python",
   "pygments_lexer": "ipython3",
   "version": "3.6.3"
  }
 },
 "nbformat": 4,
 "nbformat_minor": 1
}
